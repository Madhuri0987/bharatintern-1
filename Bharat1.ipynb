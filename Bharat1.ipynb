{
 "cells": [
  {
   "cell_type": "code",
   "execution_count": 1,
   "metadata": {},
   "outputs": [],
   "source": [
    "import pandas as pd\n",
    "import numpy as np\n",
    "from sklearn.preprocessing import MinMaxScaler\n",
    "import matplotlib.pyplot as plt\n",
    "import torch\n",
    "import torch.nn as nn"
   ]
  },
  {
   "cell_type": "code",
   "execution_count": 2,
   "metadata": {},
   "outputs": [
    {
     "name": "stdout",
     "output_type": "stream",
     "text": [
      "         Date      Open      High       Low     Close  Adj Close   Volume\n",
      "0  1972-08-25  0.063477  0.064697  0.063477  0.064453   0.036447  2508800\n",
      "1  1972-08-28  0.064453  0.064941  0.064209  0.064209   0.036309   972800\n",
      "2  1972-08-29  0.063965  0.063965  0.063477  0.063477   0.035895  1945600\n",
      "3  1972-08-30  0.063477  0.063477  0.062988  0.063477   0.035895   409600\n",
      "4  1972-08-31  0.062988  0.062988  0.062500  0.062500   0.035343   870400\n",
      "<class 'pandas.core.frame.DataFrame'>\n",
      "RangeIndex: 12491 entries, 0 to 12490\n",
      "Data columns (total 7 columns):\n",
      "Date         12491 non-null object\n",
      "Open         12491 non-null float64\n",
      "High         12491 non-null float64\n",
      "Low          12491 non-null float64\n",
      "Close        12491 non-null float64\n",
      "Adj Close    12491 non-null float64\n",
      "Volume       12491 non-null int64\n",
      "dtypes: float64(5), int64(1), object(1)\n",
      "memory usage: 683.2+ KB\n"
     ]
    }
   ],
   "source": [
    "df=pd.read_csv(\"WMT.csv\")\n",
    "print(df.head())\n",
    "df.info()"
   ]
  },
  {
   "cell_type": "code",
   "execution_count": 3,
   "metadata": {},
   "outputs": [
    {
     "name": "stdout",
     "output_type": "stream",
     "text": [
      "[3.19608588e-04 3.18011461e-04 3.13220082e-04 ... 9.34740453e-01\n",
      " 9.27212954e-01 9.27212954e-01]\n"
     ]
    }
   ],
   "source": [
    "closed_prices=df[\"Close\"]\n",
    "seq_len=15\n",
    "mm=MinMaxScaler()\n",
    "scaled_price=mm.fit_transform(np.array(closed_prices)[...,None]).squeeze()\n",
    "print(scaled_price)"
   ]
  },
  {
   "cell_type": "code",
   "execution_count": 4,
   "metadata": {},
   "outputs": [],
   "source": [
    "x=[]\n",
    "y=[]\n",
    "for i in range(len(scaled_price)-seq_len):\n",
    "    x.append(scaled_price[i:i+seq_len])\n",
    "    y.append(scaled_price[i+seq_len])"
   ]
  },
  {
   "cell_type": "code",
   "execution_count": 5,
   "metadata": {},
   "outputs": [
    {
     "name": "stdout",
     "output_type": "stream",
     "text": [
      "torch.Size([9980, 15, 1]) torch.Size([2496, 15, 1])\n",
      "torch.Size([9980, 1, 1]) torch.Size([2496, 1, 1])\n"
     ]
    }
   ],
   "source": [
    "x=np.array(x)[...,None]\n",
    "y=np.array(y)[...,None]\n",
    "\n",
    "train_x = torch.from_numpy(x[:int(0.8 * x.shape[0])]).float()\n",
    "train_y = torch.from_numpy(y[:int(0.8 * y.shape[0])]).float().unsqueeze(1)\n",
    "test_x = torch.from_numpy(x[int(0.8 * x.shape[0]):]).float()\n",
    "test_y = torch.from_numpy(y[int(0.8 * y.shape[0]):]).float().unsqueeze(1)\n",
    "print(train_x.shape,test_x.shape)\n",
    "print(train_y.shape,test_y.shape)"
   ]
  },
  {
   "cell_type": "code",
   "execution_count": 6,
   "metadata": {},
   "outputs": [
    {
     "name": "stdout",
     "output_type": "stream",
     "text": [
      "10 epoch loss 0.02396327815949917\n",
      "20 epoch loss 0.016976986080408096\n",
      "30 epoch loss 0.011257613077759743\n",
      "40 epoch loss 0.0008512182394042611\n",
      "50 epoch loss 0.0008760219207033515\n",
      "60 epoch loss 0.0005795490578748286\n",
      "70 epoch loss 0.00025307817850261927\n",
      "80 epoch loss 0.00020398157357703894\n",
      "90 epoch loss 0.00018633753643371165\n",
      "100 epoch loss 0.00016029107791837305\n"
     ]
    },
    {
     "data": {
      "image/png": "[encoded data removed]",
      "text/plain": [
       "<matplotlib.figure.Figure at 0x21bde4c3e80>"
      ]
     },
     "metadata": {},
     "output_type": "display_data"
    }
   ],
   "source": [
    "class Model(nn.Module):\n",
    "    def __init__(self,input_size,hidden_size):\n",
    "        super().__init__()\n",
    "        self.lstm=nn.LSTM(input_size,hidden_size,batch_first=True)\n",
    "        self.fc=nn.Linear(hidden_size,1)\n",
    "    def forward(self,x):\n",
    "        output,(hidden,cell)=self.lstm(x)\n",
    "        return self.fc(hidden[-1,:])\n",
    "model=Model(1,150)\n",
    "\n",
    "optimizer=torch.optim.Adam(model.parameters(),lr=0.001)\n",
    "loss_fn=nn.MSELoss()\n",
    "num_epochs=110\n",
    "for epoch in range(num_epochs):\n",
    "    output=model(train_x)\n",
    "    loss=loss_fn(output,train_y.squeeze(1))\n",
    "    \n",
    "    \n",
    "    optimizer.zero_grad()\n",
    "    loss.backward()\n",
    "    optimizer.step()\n",
    "    \n",
    "    if epoch%10==0 and epoch!=0:\n",
    "        print(epoch,\"epoch loss\",loss.item())\n",
    "        \n",
    "model.eval()\n",
    "with torch.no_grad():\n",
    "    output=model(test_x)\n",
    "    \n",
    "    \n",
    "pred=mm.inverse_transform(output.numpy())\n",
    "test_y_2d=test_y.reshape(-1,1)\n",
    "real=mm.inverse_transform(test_y_2d.numpy())\n",
    "\n",
    "plt.plot(pred.squeeze(),color=\"red\",label=\"predicted\")\n",
    "plt.plot(real.squeeze(),color=\"green\",label=\"real\")\n",
    "plt.show()"
   ]
  },
  {
   "cell_type": "code",
   "execution_count": null,
   "metadata": {},
   "outputs": [],
   "source": []
  }
 ],
 "metadata": {
  "kernelspec": {
   "display_name": "Python 3",
   "language": "python",
   "name": "python3"
  },
  "language_info": {
   "codemirror_mode": {
    "name": "ipython",
    "version": 3
   },
   "file_extension": ".py",
   "mimetype": "text/x-python",
   "name": "python",
   "nbconvert_exporter": "python",
   "pygments_lexer": "ipython3",
   "version": "3.6.4"
  }
 },
 "nbformat": 4,
 "nbformat_minor": 2
}
